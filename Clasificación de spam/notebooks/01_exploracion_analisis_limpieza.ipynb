{
 "cells": [
  {
   "cell_type": "code",
   "execution_count": 1,
   "id": "13ba41b6",
   "metadata": {},
   "outputs": [
    {
     "data": {
      "text/html": [
       "<div>\n",
       "<style scoped>\n",
       "    .dataframe tbody tr th:only-of-type {\n",
       "        vertical-align: middle;\n",
       "    }\n",
       "\n",
       "    .dataframe tbody tr th {\n",
       "        vertical-align: top;\n",
       "    }\n",
       "\n",
       "    .dataframe thead th {\n",
       "        text-align: right;\n",
       "    }\n",
       "</style>\n",
       "<table border=\"1\" class=\"dataframe\">\n",
       "  <thead>\n",
       "    <tr style=\"text-align: right;\">\n",
       "      <th></th>\n",
       "      <th>clase</th>\n",
       "      <th>mensajes</th>\n",
       "    </tr>\n",
       "  </thead>\n",
       "  <tbody>\n",
       "    <tr>\n",
       "      <th>0</th>\n",
       "      <td>ham</td>\n",
       "      <td>Go until jurong point, crazy.. Available only ...</td>\n",
       "    </tr>\n",
       "    <tr>\n",
       "      <th>1</th>\n",
       "      <td>ham</td>\n",
       "      <td>Ok lar... Joking wif u oni...</td>\n",
       "    </tr>\n",
       "  </tbody>\n",
       "</table>\n",
       "</div>"
      ],
      "text/plain": [
       "  clase                                           mensajes\n",
       "0   ham  Go until jurong point, crazy.. Available only ...\n",
       "1   ham                      Ok lar... Joking wif u oni..."
      ]
     },
     "execution_count": 1,
     "metadata": {},
     "output_type": "execute_result"
    }
   ],
   "source": [
    "#Cargamos los datos para entener los datos\n",
    "import pandas as pd \n",
    "\n",
    "#Usamos el enconding porque problablemente el dataset viene con caracteres que en UTF-8 no carga , evitamos error \n",
    "df = pd.read_csv('../data/spam.csv', encoding='latin-1', sep=';', names=['clase', 'mensajes'])\n",
    "df.head(2)"
   ]
  },
  {
   "cell_type": "markdown",
   "id": "ad06ed61",
   "metadata": {},
   "source": [
    "(HAM) = No Spam , (SPAM) = Spam"
   ]
  },
  {
   "cell_type": "code",
   "execution_count": 2,
   "id": "ec38997e",
   "metadata": {},
   "outputs": [
    {
     "data": {
      "text/plain": [
       "(5572, 2)"
      ]
     },
     "execution_count": 2,
     "metadata": {},
     "output_type": "execute_result"
    }
   ],
   "source": [
    "#Miramos cantidad de ejemplos que tenemos\n",
    "df.shape"
   ]
  },
  {
   "cell_type": "code",
   "execution_count": 3,
   "id": "8366af7a",
   "metadata": {},
   "outputs": [
    {
     "data": {
      "text/plain": [
       "clase       object\n",
       "mensajes    object\n",
       "dtype: object"
      ]
     },
     "execution_count": 3,
     "metadata": {},
     "output_type": "execute_result"
    }
   ],
   "source": [
    "#Revisamos que los datos sean los correctos\n",
    "df.dtypes"
   ]
  },
  {
   "cell_type": "code",
   "execution_count": 4,
   "id": "b1da6214",
   "metadata": {},
   "outputs": [
    {
     "data": {
      "text/plain": [
       "clase       0\n",
       "mensajes    0\n",
       "dtype: int64"
      ]
     },
     "execution_count": 4,
     "metadata": {},
     "output_type": "execute_result"
    }
   ],
   "source": [
    "#Revisamos nulos\n",
    "df.isnull().sum()"
   ]
  },
  {
   "cell_type": "code",
   "execution_count": 5,
   "id": "8bcdbbac",
   "metadata": {},
   "outputs": [
    {
     "data": {
      "text/plain": [
       "clase\n",
       "ham     0.865937\n",
       "spam    0.134063\n",
       "Name: proportion, dtype: float64"
      ]
     },
     "execution_count": 5,
     "metadata": {},
     "output_type": "execute_result"
    }
   ],
   "source": [
    "#Revisamos balanceo en la variable clase\n",
    "df['clase'].value_counts(normalize=True)"
   ]
  },
  {
   "cell_type": "code",
   "execution_count": 6,
   "id": "8536816c",
   "metadata": {},
   "outputs": [
    {
     "data": {
      "text/plain": [
       "np.int64(404)"
      ]
     },
     "execution_count": 6,
     "metadata": {},
     "output_type": "execute_result"
    }
   ],
   "source": [
    "#Revisamos duplicados \n",
    "df.duplicated().sum()"
   ]
  },
  {
   "cell_type": "code",
   "execution_count": 7,
   "id": "4cc8190e",
   "metadata": {},
   "outputs": [
    {
     "data": {
      "text/html": [
       "<div>\n",
       "<style scoped>\n",
       "    .dataframe tbody tr th:only-of-type {\n",
       "        vertical-align: middle;\n",
       "    }\n",
       "\n",
       "    .dataframe tbody tr th {\n",
       "        vertical-align: top;\n",
       "    }\n",
       "\n",
       "    .dataframe thead th {\n",
       "        text-align: right;\n",
       "    }\n",
       "</style>\n",
       "<table border=\"1\" class=\"dataframe\">\n",
       "  <thead>\n",
       "    <tr style=\"text-align: right;\">\n",
       "      <th></th>\n",
       "      <th>clase</th>\n",
       "      <th>mensajes</th>\n",
       "    </tr>\n",
       "  </thead>\n",
       "  <tbody>\n",
       "    <tr>\n",
       "      <th>103</th>\n",
       "      <td>ham</td>\n",
       "      <td>As per your request 'Melle Melle (Oru Minnamin...</td>\n",
       "    </tr>\n",
       "    <tr>\n",
       "      <th>154</th>\n",
       "      <td>ham</td>\n",
       "      <td>As per your request 'Melle Melle (Oru Minnamin...</td>\n",
       "    </tr>\n",
       "    <tr>\n",
       "      <th>207</th>\n",
       "      <td>ham</td>\n",
       "      <td>As I entered my cabin my PA said, '' Happy B'd...</td>\n",
       "    </tr>\n",
       "    <tr>\n",
       "      <th>223</th>\n",
       "      <td>ham</td>\n",
       "      <td>Sorry, I'll call later</td>\n",
       "    </tr>\n",
       "    <tr>\n",
       "      <th>326</th>\n",
       "      <td>ham</td>\n",
       "      <td>No calls..messages..missed calls</td>\n",
       "    </tr>\n",
       "    <tr>\n",
       "      <th>339</th>\n",
       "      <td>ham</td>\n",
       "      <td>Sorry, I'll call later</td>\n",
       "    </tr>\n",
       "    <tr>\n",
       "      <th>357</th>\n",
       "      <td>spam</td>\n",
       "      <td>Congratulations ur awarded 500 of CD vouchers ...</td>\n",
       "    </tr>\n",
       "    <tr>\n",
       "      <th>444</th>\n",
       "      <td>ham</td>\n",
       "      <td>Sorry, I'll call later</td>\n",
       "    </tr>\n",
       "    <tr>\n",
       "      <th>533</th>\n",
       "      <td>ham</td>\n",
       "      <td>Gudnite....tc...practice going on</td>\n",
       "    </tr>\n",
       "    <tr>\n",
       "      <th>655</th>\n",
       "      <td>ham</td>\n",
       "      <td>Did u got that persons story</td>\n",
       "    </tr>\n",
       "  </tbody>\n",
       "</table>\n",
       "</div>"
      ],
      "text/plain": [
       "    clase                                           mensajes\n",
       "103   ham  As per your request 'Melle Melle (Oru Minnamin...\n",
       "154   ham  As per your request 'Melle Melle (Oru Minnamin...\n",
       "207   ham  As I entered my cabin my PA said, '' Happy B'd...\n",
       "223   ham                             Sorry, I'll call later\n",
       "326   ham                   No calls..messages..missed calls\n",
       "339   ham                             Sorry, I'll call later\n",
       "357  spam  Congratulations ur awarded 500 of CD vouchers ...\n",
       "444   ham                             Sorry, I'll call later\n",
       "533   ham                  Gudnite....tc...practice going on\n",
       "655   ham                       Did u got that persons story"
      ]
     },
     "execution_count": 7,
     "metadata": {},
     "output_type": "execute_result"
    }
   ],
   "source": [
    "#Revisamos valores duplicados\n",
    "df[df.duplicated()].head(10)"
   ]
  },
  {
   "cell_type": "code",
   "execution_count": 8,
   "id": "8bb9592f",
   "metadata": {},
   "outputs": [],
   "source": [
    "#Eliminamos los duplicados para evitar multicolonealidad\n",
    "df.drop_duplicates(inplace=True)"
   ]
  },
  {
   "cell_type": "code",
   "execution_count": 9,
   "id": "b5a83bd0",
   "metadata": {},
   "outputs": [
    {
     "data": {
      "text/plain": [
       "np.int64(0)"
      ]
     },
     "execution_count": 9,
     "metadata": {},
     "output_type": "execute_result"
    }
   ],
   "source": [
    "#Rectificamos que ya no tengamos duplicados\n",
    "df.duplicated().sum()"
   ]
  },
  {
   "cell_type": "code",
   "execution_count": 10,
   "id": "a0ee2a53",
   "metadata": {},
   "outputs": [
    {
     "data": {
      "text/plain": [
       "clase\n",
       "ham      70.905004\n",
       "spam    137.703988\n",
       "Name: longitud, dtype: float64"
      ]
     },
     "execution_count": 10,
     "metadata": {},
     "output_type": "execute_result"
    }
   ],
   "source": [
    "#Revisamos longitud de los para poder revisar cual de los textos es mas largo si los spam o los ham\n",
    "df['longitud'] = df['mensajes'].apply(len)\n",
    "df.groupby('clase')['longitud'].mean()"
   ]
  },
  {
   "cell_type": "markdown",
   "id": "e0735911",
   "metadata": {},
   "source": [
    "Podemos ver como en promedio los que tienen spam son textos más largos "
   ]
  },
  {
   "cell_type": "code",
   "execution_count": null,
   "id": "2e6e0334",
   "metadata": {},
   "outputs": [],
   "source": [
    "#Creamos un nuevo dataset , sin los datos duplicaods, con nuevas columnas lito para hacer los procedimientos de entrnamiento\n",
    "df.to_csv('../data/spam_clean.csv', index=False)"
   ]
  },
  {
   "cell_type": "markdown",
   "id": "da04c2cb",
   "metadata": {},
   "source": [
    "### Conclusiones del análisis exploratorio\n",
    "\n",
    "- Revisamos la **cantidad de ejemplos** disponibles para confirmar que contamos con una base de datos suficiente.  \n",
    "- Verificamos que los datos estuvieran en el **tipo de dato correspondiente** y que no existieran valores nulos.  \n",
    "- Analizamos el **balanceo de clases**, encontrando una distribución desigual con **13.4% de Spam** y **86.6% de Ham**.  \n",
    "  - Esto nos indica un desbalance que probablemente tengamos que tratar más adelante, dependiendo de cómo se comporten las métricas (como **F1-score**) durante el entrenamiento.  \n",
    "  - En ese caso, podríamos aplicar técnicas de balanceo como **oversampling** o **undersampling**.  \n",
    "- Tratamos los **valores duplicados** para evitar multicolinealidad.  \n",
    "- Revisamos la **longitud de los mensajes**, observando que en muchos casos los mensajes de spam tienden a ser más largos que los de ham.  \n"
   ]
  }
 ],
 "metadata": {
  "kernelspec": {
   "display_name": "venv (3.10.12)",
   "language": "python",
   "name": "python3"
  },
  "language_info": {
   "codemirror_mode": {
    "name": "ipython",
    "version": 3
   },
   "file_extension": ".py",
   "mimetype": "text/x-python",
   "name": "python",
   "nbconvert_exporter": "python",
   "pygments_lexer": "ipython3",
   "version": "3.10.12"
  }
 },
 "nbformat": 4,
 "nbformat_minor": 5
}
