{
 "cells": [
  {
   "cell_type": "code",
   "execution_count": 18,
   "id": "c5018670",
   "metadata": {},
   "outputs": [
    {
     "name": "stdout",
     "output_type": "stream",
     "text": [
      "Modelo cargado exitosamente\n"
     ]
    }
   ],
   "source": [
    "import ipywidgets as widgets\n",
    "import joblib\n",
    "\n",
    "#Cargamos nuestro modelo\n",
    "try:\n",
    "    pipline = joblib.load('spam_detect.pkl')\n",
    "    print('Modelo cargado exitosamente')\n",
    "except FileNotFoundError:\n",
    "    print(\"El archivo no fue encontrado \\n asegurate que se encuentre en los archivos\")"
   ]
  },
  {
   "cell_type": "code",
   "execution_count": 19,
   "id": "dccd249b",
   "metadata": {},
   "outputs": [],
   "source": [
    "#Creramos la función en la cual va funcionar la logica detrás de la interactividad\n",
    "def clasificacion_texto(texto):\n",
    "    \"\"\"\n",
    "    Toma un mensaje de texto lo procesas por el modelo cargado para predecir si fue spam\n",
    "    Retorna una tupla: (mensaje_resultado_ , Color_resutlado)\n",
    "    \"\"\"\n",
    "    if not texto.strip():\n",
    "        print('Ingrese un mensaje para clasificar', '#555') #gris\n",
    "\n",
    "    #Realizamos la clasificacion del texto\n",
    "    prediccion = pipline.predict([texto])\n",
    "\n",
    "    if prediccion[0] == 1:\n",
    "        return ('🔕 Este mensaje es spam 🔕', 'red')\n",
    "    else:\n",
    "        return ('😃 Este mensaje no es spam 😃 ', 'green')"
   ]
  },
  {
   "cell_type": "code",
   "execution_count": 20,
   "id": "1270953e",
   "metadata": {},
   "outputs": [],
   "source": [
    "#Creamos los widgets a utilizar\n",
    "\n",
    "mensaje = widgets.Textarea(\n",
    "    placeholder='Escribe el mensaje a clasificar',\n",
    "    description='Mensaje',\n",
    "    ayout=widgets.Layout(width='90%', height='200px'),\n",
    "    style={'description_width': 'initial'}\n",
    "    )\n",
    "\n",
    "boton_deteccion = widgets.Button(\n",
    "    description='Deteccion Spam',\n",
    "    button_style='info',\n",
    "    tooltip='Click para clasificar mensaje',\n",
    "    icon='check'\n",
    ")\n",
    "\n",
    "resultado= widgets.Label(\n",
    "    value='Esperando mensaje...',\n",
    "    layout=widgets.Layout(margin='20px 0 0 0 ', padding='10px'),\n",
    "    style={'font_weight': 'bold', 'font_size':'20px', 'color': '#555'}\n",
    ")"
   ]
  },
  {
   "cell_type": "code",
   "execution_count": 16,
   "id": "55d1620c",
   "metadata": {},
   "outputs": [],
   "source": [
    "# Conexión entre el botón y la lógica de clasificación\n",
    "def on_boton_click(b):\n",
    "    texto_usuario = mensaje.value\n",
    "    mensaje, color = clasificacion_texto(texto_usuario)\n",
    "    \n",
    "    # Limpiamos y actualizamos el widget de resultado de manera elegante\n",
    "    resultado.value = mensaje\n",
    "    resultado.style.font_weight = 'bold'\n",
    "    resultado.style.font_size = '20px'\n",
    "    resultado.style.color = color\n",
    "\n",
    "# Asignar la función al evento de click\n",
    "boton_deteccion.on_click(on_boton_click)"
   ]
  },
  {
   "cell_type": "code",
   "execution_count": 21,
   "id": "a85b768f",
   "metadata": {},
   "outputs": [
    {
     "data": {
      "application/vnd.jupyter.widget-view+json": {
       "model_id": "be19af2d72d2410398993dd28a198850",
       "version_major": 2,
       "version_minor": 0
      },
      "text/plain": [
       "VBox(children=(Label(value='Detector de SPAM', style=LabelStyle(font_size='24px', font_weight='bold')), HBox(c…"
      ]
     },
     "metadata": {},
     "output_type": "display_data"
    }
   ],
   "source": [
    "# Construir el layout final de la aplicación\n",
    "app_layout = widgets.VBox([\n",
    "    widgets.Label(\"Detector de SPAM\", style={'font_weight': 'bold', 'font_size': '24px', 'color': '#333'}),\n",
    "    widgets.HBox([mensaje]),\n",
    "    widgets.HBox([boton_deteccion]),\n",
    "    widgets.HBox([resultado])\n",
    "], layout=widgets.Layout(\n",
    "    border='2px solid #ddd',\n",
    "    padding='20px',\n",
    "    margin='20px auto',\n",
    "    width='600px'\n",
    "))\n",
    "\n",
    "# Mostrar la interfaz de usuario\n",
    "display(app_layout)"
   ]
  }
 ],
 "metadata": {
  "kernelspec": {
   "display_name": "venv (3.10.12)",
   "language": "python",
   "name": "python3"
  },
  "language_info": {
   "codemirror_mode": {
    "name": "ipython",
    "version": 3
   },
   "file_extension": ".py",
   "mimetype": "text/x-python",
   "name": "python",
   "nbconvert_exporter": "python",
   "pygments_lexer": "ipython3",
   "version": "3.10.12"
  }
 },
 "nbformat": 4,
 "nbformat_minor": 5
}
